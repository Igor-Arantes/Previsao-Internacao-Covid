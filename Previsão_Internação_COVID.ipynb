{
  "nbformat": 4,
  "nbformat_minor": 0,
  "metadata": {
    "colab": {
      "name": "Previsão Internação COVID.ipynb",
      "provenance": [],
      "authorship_tag": "ABX9TyP4cJMpNFv6RdAVRtywYyzq"
    },
    "kernelspec": {
      "name": "python3",
      "display_name": "Python 3"
    }
  },
  "cells": [
    {
      "cell_type": "markdown",
      "metadata": {
        "id": "ZJmJ5HrCXPE2"
      },
      "source": [
        "# Resumo"
      ]
    },
    {
      "cell_type": "markdown",
      "metadata": {
        "id": "eFE7AIwxeUhd"
      },
      "source": [
        "# Introdução"
      ]
    },
    {
      "cell_type": "markdown",
      "metadata": {
        "id": "3YDvcGDXjpYM"
      },
      "source": [
        "Um dos maiores problemas do Covid 19 é sua alta transmissibilidade, este fator alinhado com uma população grande e uma taxa de internação de [20% dos infectados](https://summitsaude.estadao.com.br/novos-medicos/covid-19-quais-sao-os-criterios-para-internacao-em-uma-uti/), tem-se uma receita capaz de congestionar os leitos dos hospitais, conforme aconteceu na [Itália em março de 2020](https://www.bbc.com/portuguese/internacional-51968491) e em [Manaus(AM)em abril de 2020](https://g1.globo.com/jornal-nacional/noticia/2020/04/06/capacidade-dos-leitos-na-rede-publica-de-manaus-chega-ao-limite-diz-prefeito.ghtml).  \r\n",
        "Tendo em vista esse cenário, uma ferramenta que pudesse prever, logo que um paciente chega, se ele irá precisar de um leito de UTI ou não.  \r\n",
        "O trabalho aqui se dispoe a apresentar um modelo de machine learning que receba os dados iniciais do paciente quando o mesmo chega ao hospital e tente prever se o mesmo irá precisar de um leito ou não."
      ]
    },
    {
      "cell_type": "markdown",
      "metadata": {
        "id": "Ze7Bkze6jdmj"
      },
      "source": [
        "## Objetivo:  \r\n",
        "\r\n",
        "Prever quais pacientes precisarão ser admitidos na unidade de terapia intensiva e assim, definir qual a necessidade de leitos de UTI do hospital, a partir dos dados clínicos individuais disponíveis."
      ]
    },
    {
      "cell_type": "code",
      "metadata": {
        "id": "WdE6qen_jcxq"
      },
      "source": [
        "#"
      ],
      "execution_count": null,
      "outputs": []
    },
    {
      "cell_type": "markdown",
      "metadata": {
        "id": "jUoZXSayiCgw"
      },
      "source": [
        ""
      ]
    },
    {
      "cell_type": "markdown",
      "metadata": {
        "id": "qbrHnqHMhDwO"
      },
      "source": [
        "# Tratamento dos Dados"
      ]
    },
    {
      "cell_type": "markdown",
      "metadata": {
        "id": "QKLP1MHWhXqo"
      },
      "source": [
        "# Machine Learning"
      ]
    },
    {
      "cell_type": "markdown",
      "metadata": {
        "id": "mKkOKHh0hyvB"
      },
      "source": [
        "# Analise dos Resultados"
      ]
    },
    {
      "cell_type": "markdown",
      "metadata": {
        "id": "hkyjIzimh3Sf"
      },
      "source": [
        "#Conclusão"
      ]
    },
    {
      "cell_type": "code",
      "metadata": {
        "id": "giHv69F2hyB4"
      },
      "source": [
        ""
      ],
      "execution_count": null,
      "outputs": []
    },
    {
      "cell_type": "code",
      "metadata": {
        "id": "mroNEPifTY69"
      },
      "source": [
        ""
      ],
      "execution_count": null,
      "outputs": []
    }
  ]
}